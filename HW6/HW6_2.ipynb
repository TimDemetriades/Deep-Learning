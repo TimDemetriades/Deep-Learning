{
 "cells": [
  {
   "cell_type": "markdown",
   "metadata": {
    "id": "ZeQwnMtdcKSX"
   },
   "source": [
    "# HW 6_2 - Tim Demetriades\n",
    "10/8/2021\n",
    "\n",
    "### Test CNN over the cifar10 data set, which contains 32x32 colour images from 10 classes:\n",
    "### 1. Use the below code to load the data set."
   ]
  },
  {
   "cell_type": "code",
   "execution_count": 1,
   "metadata": {
    "colab": {
     "base_uri": "https://localhost:8080/"
    },
    "id": "dSgktCvJbASb",
    "outputId": "ee03f3b3-285a-4c2c-fef3-6e2b18b3199f"
   },
   "outputs": [
    {
     "name": "stdout",
     "output_type": "stream",
     "text": [
      "Train samples: (50000, 32, 32, 3) (50000, 1)\n",
      "Test samples: (10000, 32, 32, 3) (10000, 1)\n"
     ]
    }
   ],
   "source": [
    "from keras.datasets import cifar10\n",
    "(x_train, y_train), (x_test, y_test) = cifar10.load_data()\n",
    "\n",
    "print(\"Train samples:\", x_train.shape, y_train.shape)\n",
    "print(\"Test samples:\", x_test.shape, y_test.shape)"
   ]
  },
  {
   "cell_type": "markdown",
   "metadata": {
    "id": "yOeoc73YcXY8"
   },
   "source": [
    "### 2. Show the 10 classes."
   ]
  },
  {
   "cell_type": "code",
   "execution_count": 2,
   "metadata": {
    "id": "G52f9fMqcq9k"
   },
   "outputs": [],
   "source": [
    "import matplotlib.pyplot as plt\n",
    "import numpy as np"
   ]
  },
  {
   "cell_type": "code",
   "execution_count": 3,
   "metadata": {
    "colab": {
     "base_uri": "https://localhost:8080/",
     "height": 136
    },
    "id": "Bip5oxfWcc61",
    "outputId": "e6222787-d76b-4afe-d3cc-0de24333b405"
   },
   "outputs": [
    {
     "data": {
      "image/png": "[encoded data removed]",
      "text/plain": [
       "<Figure size 1080x288 with 1 Axes>"
      ]
     },
     "metadata": {
      "needs_background": "light"
     },
     "output_type": "display_data"
    }
   ],
   "source": [
    "NUM_CLASSES = 10\n",
    "cifar10_classes = [\"airplane\", \"automobile\", \"bird\", \"cat\", \"deer\",  \"dog\", \"frog\", \"horse\", \"ship\", \"truck\"]\n",
    "\n",
    "# show random images from train\n",
    "cols = 8\n",
    "rows = 2\n",
    "\n",
    "fig = plt.figure(figsize=(2 * cols - 1, 2.5 * rows - 1))\n",
    "\n",
    "for i in range(cols):\n",
    "  for j in range(rows):\n",
    "    random_index = np.random.randint(0, len(y_train))\n",
    "    ax = fig.add_subplot(rows, cols, i * rows + j + 1)\n",
    "    ax.grid('off')\n",
    "    ax.axis('off')\n",
    "    ax.imshow(x_train[random_index, :])\n",
    "    ax.set_title(cifar10_classes[y_train[random_index, 0]])\n",
    "    plt.show()"
   ]
  },
  {
   "cell_type": "markdown",
   "metadata": {
    "id": "l7fJSLf4czVd"
   },
   "source": [
    "### 3. Define a CNN architecture and train your own model by playing with the network setup: like, performs convolution, performs 2D max pooling, changing activation function from ReLU to LeakyReLU, adding dropout etc. "
   ]
  },
  {
   "cell_type": "code",
   "execution_count": 4,
   "metadata": {
    "id": "0WJnJC15cdkj"
   },
   "outputs": [],
   "source": [
    "# import necessary building blocks\n",
    "from keras.models import Sequential\n",
    "from keras.layers import Conv2D, MaxPooling2D, Flatten, Dense, Activation, Dropout\n",
    "from keras.layers.advanced_activations import LeakyReLU\n",
    "from keras.losses import SparseCategoricalCrossentropy"
   ]
  },
  {
   "cell_type": "code",
   "execution_count": 5,
   "metadata": {
    "id": "2hAQm_i5f06R"
   },
   "outputs": [],
   "source": [
    "# Normalize the pixel values to be between 0 and 1\n",
    "x_train = x_train / 255\n",
    "x_test = x_test / 255"
   ]
  },
  {
   "cell_type": "code",
   "execution_count": 6,
   "metadata": {
    "id": "fKVmpOmqc9lm"
   },
   "outputs": [],
   "source": [
    "model = Sequential()\n",
    "\n",
    "model.add(Conv2D(32, (3, 3), input_shape=(32, 32, 3)))\n",
    "#model.add(Activation('relu'))\n",
    "model.add(LeakyReLU(alpha=0.05))\n",
    "model.add(MaxPooling2D(pool_size=(2, 2)))\n",
    "model.add(Conv2D(32, (3, 3)))\n",
    "#model.add(Activation('relu'))\n",
    "model.add(LeakyReLU(alpha=0.05))\n",
    "model.add(MaxPooling2D(pool_size=(2, 2)))\n",
    "model.add(Conv2D(64, (3, 3)))\n",
    "#model.add(Activation('relu'))\n",
    "model.add(LeakyReLU(alpha=0.05))\n",
    "model.add(MaxPooling2D(pool_size=(2,2)))\n",
    "\n",
    "model.add(Flatten())\n",
    "model.add(Dense(512))\n",
    "#model.add(Activation('relu'))\n",
    "model.add(LeakyReLU(alpha=0.05))\n",
    "model.add(Dropout(0.2))\n",
    "model.add(Dense(10))"
   ]
  },
  {
   "cell_type": "code",
   "execution_count": 7,
   "metadata": {
    "colab": {
     "base_uri": "https://localhost:8080/"
    },
    "id": "BWSK_0Godw2W",
    "outputId": "3e59fde8-2209-46e1-bbd7-74a8d07b49f2"
   },
   "outputs": [
    {
     "name": "stdout",
     "output_type": "stream",
     "text": [
      "Model: \"sequential\"\n",
      "_________________________________________________________________\n",
      "Layer (type)                 Output Shape              Param #   \n",
      "=================================================================\n",
      "conv2d (Conv2D)              (None, 30, 30, 32)        896       \n",
      "_________________________________________________________________\n",
      "leaky_re_lu (LeakyReLU)      (None, 30, 30, 32)        0         \n",
      "_________________________________________________________________\n",
      "max_pooling2d (MaxPooling2D) (None, 15, 15, 32)        0         \n",
      "_________________________________________________________________\n",
      "conv2d_1 (Conv2D)            (None, 13, 13, 32)        9248      \n",
      "_________________________________________________________________\n",
      "leaky_re_lu_1 (LeakyReLU)    (None, 13, 13, 32)        0         \n",
      "_________________________________________________________________\n",
      "max_pooling2d_1 (MaxPooling2 (None, 6, 6, 32)          0         \n",
      "_________________________________________________________________\n",
      "conv2d_2 (Conv2D)            (None, 4, 4, 64)          18496     \n",
      "_________________________________________________________________\n",
      "leaky_re_lu_2 (LeakyReLU)    (None, 4, 4, 64)          0         \n",
      "_________________________________________________________________\n",
      "max_pooling2d_2 (MaxPooling2 (None, 2, 2, 64)          0         \n",
      "_________________________________________________________________\n",
      "flatten (Flatten)            (None, 256)               0         \n",
      "_________________________________________________________________\n",
      "dense (Dense)                (None, 512)               131584    \n",
      "_________________________________________________________________\n",
      "leaky_re_lu_3 (LeakyReLU)    (None, 512)               0         \n",
      "_________________________________________________________________\n",
      "dropout (Dropout)            (None, 512)               0         \n",
      "_________________________________________________________________\n",
      "dense_1 (Dense)              (None, 10)                5130      \n",
      "=================================================================\n",
      "Total params: 165,354\n",
      "Trainable params: 165,354\n",
      "Non-trainable params: 0\n",
      "_________________________________________________________________\n"
     ]
    }
   ],
   "source": [
    "model.summary()"
   ]
  },
  {
   "cell_type": "code",
   "execution_count": 8,
   "metadata": {
    "colab": {
     "base_uri": "https://localhost:8080/"
    },
    "id": "T2Z8smcRduVf",
    "outputId": "1b0b6c8a-827b-44b6-9782-018e729e7ffe"
   },
   "outputs": [
    {
     "name": "stdout",
     "output_type": "stream",
     "text": [
      "Epoch 1/10\n",
      "1563/1563 [==============================] - 13s 7ms/step - loss: 1.5027 - accuracy: 0.4506 - val_loss: 1.2213 - val_accuracy: 0.5606\n",
      "Epoch 2/10\n",
      "1563/1563 [==============================] - 11s 7ms/step - loss: 1.1293 - accuracy: 0.6009 - val_loss: 1.0648 - val_accuracy: 0.6250\n",
      "Epoch 3/10\n",
      "1563/1563 [==============================] - 11s 7ms/step - loss: 0.9643 - accuracy: 0.6620 - val_loss: 1.0339 - val_accuracy: 0.6479\n",
      "Epoch 4/10\n",
      "1563/1563 [==============================] - 11s 7ms/step - loss: 0.8577 - accuracy: 0.6981 - val_loss: 0.9430 - val_accuracy: 0.6738\n",
      "Epoch 5/10\n",
      "1563/1563 [==============================] - 11s 7ms/step - loss: 0.7756 - accuracy: 0.7266 - val_loss: 0.9483 - val_accuracy: 0.6793\n",
      "Epoch 6/10\n",
      "1563/1563 [==============================] - 11s 7ms/step - loss: 0.7159 - accuracy: 0.7479 - val_loss: 0.8436 - val_accuracy: 0.7109\n",
      "Epoch 7/10\n",
      "1563/1563 [==============================] - 11s 7ms/step - loss: 0.6552 - accuracy: 0.7700 - val_loss: 0.8406 - val_accuracy: 0.7111\n",
      "Epoch 8/10\n",
      "1563/1563 [==============================] - 11s 7ms/step - loss: 0.6016 - accuracy: 0.7886 - val_loss: 0.8711 - val_accuracy: 0.7127\n",
      "Epoch 9/10\n",
      "1563/1563 [==============================] - 11s 7ms/step - loss: 0.5592 - accuracy: 0.8002 - val_loss: 0.8758 - val_accuracy: 0.7053\n",
      "Epoch 10/10\n",
      "1563/1563 [==============================] - 11s 7ms/step - loss: 0.5176 - accuracy: 0.8178 - val_loss: 0.8644 - val_accuracy: 0.7235\n"
     ]
    }
   ],
   "source": [
    "model.compile(optimizer='adam',\n",
    "              loss=SparseCategoricalCrossentropy(from_logits=True),\n",
    "              metrics=['accuracy'])\n",
    "\n",
    "history = model.fit(x_train, y_train, epochs=10, validation_data=(x_test, y_test))"
   ]
  },
  {
   "cell_type": "code",
   "execution_count": 10,
   "metadata": {
    "colab": {
     "base_uri": "https://localhost:8080/"
    },
    "id": "B6PFwAWilWOm",
    "outputId": "fed3f89d-5955-4ae6-d0c9-cd67ddd56ff6"
   },
   "outputs": [
    {
     "name": "stdout",
     "output_type": "stream",
     "text": [
      "313/313 [==============================] - 1s 4ms/step - loss: 0.8644 - accuracy: 0.7235\n",
      "\n",
      "Test Loss:  0.8644274473190308\n",
      "Test accuracy:  0.7235000133514404\n"
     ]
    }
   ],
   "source": [
    "score = model.evaluate(x_test, y_test)\n",
    "print()\n",
    "print('Test Loss: ', score[0])\n",
    "print('Test accuracy: ', score[1])"
   ]
  },
  {
   "cell_type": "code",
   "execution_count": 11,
   "metadata": {
    "colab": {
     "base_uri": "https://localhost:8080/"
    },
    "id": "mP5v9a7kliAr",
    "outputId": "273e4e5d-902f-46b2-8ee3-3b2c9217ea1d"
   },
   "outputs": [
    {
     "data": {
      "text/plain": [
       "dict_keys(['loss', 'accuracy', 'val_loss', 'val_accuracy'])"
      ]
     },
     "execution_count": 11,
     "metadata": {},
     "output_type": "execute_result"
    }
   ],
   "source": [
    "history_dict = history.history\n",
    "history_dict.keys()"
   ]
  },
  {
   "cell_type": "code",
   "execution_count": 13,
   "metadata": {
    "colab": {
     "base_uri": "https://localhost:8080/",
     "height": 295
    },
    "id": "JLS8IGpHm-Do",
    "outputId": "e4ba1fb8-1b56-411a-bf42-917da17aa1e0"
   },
   "outputs": [
    {
     "data": {
      "image/png": "[encoded data removed]",
      "text/plain": [
       "<Figure size 432x288 with 1 Axes>"
      ]
     },
     "metadata": {
      "needs_background": "light"
     },
     "output_type": "display_data"
    }
   ],
   "source": [
    "# Plotting Loss\n",
    "loss_values = history_dict['loss']\n",
    "acc_values = history_dict['accuracy']\n",
    "val_loss_values = history_dict['val_loss']\n",
    "epochs = range(1, len(acc_values) + 1)\n",
    "plt.plot(epochs, loss_values, 'bo', label='Training loss')\n",
    "plt.plot(epochs, val_loss_values, 'b', label='Validation loss')\n",
    "plt.title('Training and Validation Loss')\n",
    "plt.xlabel('Epochs')\n",
    "plt.ylabel('Loss')\n",
    "plt.legend()\n",
    "plt.show()"
   ]
  },
  {
   "cell_type": "code",
   "execution_count": 14,
   "metadata": {
    "colab": {
     "base_uri": "https://localhost:8080/",
     "height": 295
    },
    "id": "JS6J-SosnIxN",
    "outputId": "83df390f-85e1-4a52-be30-9f56cfe5eeb6"
   },
   "outputs": [
    {
     "data": {
      "image/png": "[encoded data removed]",
      "text/plain": [
       "<Figure size 432x288 with 1 Axes>"
      ]
     },
     "metadata": {
      "needs_background": "light"
     },
     "output_type": "display_data"
    }
   ],
   "source": [
    "# Plotting Accuracy\n",
    "acc_values = history_dict['accuracy']\n",
    "val_acc_values = history_dict['val_accuracy']\n",
    "epochs = range(1, len(acc_values) + 1)\n",
    "plt.plot(epochs, acc_values, 'b', label='Training Accuracy')\n",
    "plt.plot(epochs, val_acc_values, 'bo', label='Validation Accuracy')\n",
    "plt.title('Training and Validation Accuracy')\n",
    "plt.xlabel('Epochs')\n",
    "plt.ylabel('Accuracy')\n",
    "plt.legend()\n",
    "plt.show()"
   ]
  },
  {
   "cell_type": "code",
   "execution_count": 15,
   "metadata": {
    "colab": {
     "base_uri": "https://localhost:8080/"
    },
    "id": "PSaw51ysnS3b",
    "outputId": "164464d2-f8d6-4244-a81d-8dbe5ce12d66"
   },
   "outputs": [
    {
     "name": "stdout",
     "output_type": "stream",
     "text": [
      "Training Loss: 0.5176\n",
      "Testing Loss: 0.8644\n",
      "Training Accuracy: 0.8178\n",
      "Testing Accuracy: 0.7235\n"
     ]
    }
   ],
   "source": [
    "print(f'Training Loss: {round(loss_values[-1], 4)}')\n",
    "print(f'Testing Loss: {round(val_loss_values[-1], 4)}')\n",
    "print(f'Training Accuracy: {round(acc_values[-1], 4)}')\n",
    "print(f'Testing Accuracy: {round(val_acc_values[-1], 4)}')"
   ]
  },
  {
   "cell_type": "markdown",
   "metadata": {
    "id": "hnLPEOmnnZZM"
   },
   "source": [
    "### Results/Analysis\n",
    "Above you can see the results from our model. This model was a CNN model that used a mixture of convolution, activation (leaky relu), max pooling, dropout, and dense hidden layers.\n",
    "\n",
    "After 10 epochs the model obtained a testing loss of 0.82 and a testing accuracy of 72.35%. These are pretty respectable values given the dataset and the model used. Above you can see two graphs. The first shows the training and validation losses, of which you can see both decrease over time as expected. The second graph shows the training and validation accuracies, both of which increased as expected.\n",
    "\n",
    "A couple things good be used to improve the model even further. The hyperparameters can of course be tuned, such as increasing the number of nodes and alpha of the leaky relu activation function. Additionally, more hidden layers could be added. Overall, though, this model performed relatively well as is."
   ]
  }
 ],
 "metadata": {
  "accelerator": "GPU",
  "colab": {
   "collapsed_sections": [],
   "name": "HW6_2.ipynb",
   "provenance": []
  },
  "kernelspec": {
   "display_name": "Python 3",
   "language": "python",
   "name": "python3"
  },
  "language_info": {
   "codemirror_mode": {
    "name": "ipython",
    "version": 3
   },
   "file_extension": ".py",
   "mimetype": "text/x-python",
   "name": "python",
   "nbconvert_exporter": "python",
   "pygments_lexer": "ipython3",
   "version": "3.8.5"
  }
 },
 "nbformat": 4,
 "nbformat_minor": 4
}
