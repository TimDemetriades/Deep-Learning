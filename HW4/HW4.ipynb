{
 "cells": [
  {
   "cell_type": "markdown",
   "metadata": {},
   "source": [
    "# HW 4 - Tim Demetriades\n",
    "## Keras - Fashion_Mnist\n",
    "9/26/2021"
   ]
  },
  {
   "cell_type": "code",
   "execution_count": 1,
   "metadata": {},
   "outputs": [],
   "source": [
    "!conda activate deeplearning"
   ]
  },
  {
   "cell_type": "markdown",
   "metadata": {},
   "source": [
    "Below we create a model using the fashion_mnist dataset."
   ]
  },
  {
   "cell_type": "code",
   "execution_count": 2,
   "metadata": {},
   "outputs": [
    {
     "data": {
      "image/png": "[encoded data removed]",
      "text/plain": [
       "<Figure size 432x288 with 4 Axes>"
      ]
     },
     "metadata": {
      "needs_background": "light"
     },
     "output_type": "display_data"
    },
    {
     "name": "stdout",
     "output_type": "stream",
     "text": [
      "Epoch 1/10\n",
      "300/300 - 2s - loss: 0.5172 - accuracy: 0.8206 - val_loss: 0.4443 - val_accuracy: 0.8438\n",
      "Epoch 2/10\n",
      "300/300 - 2s - loss: 0.3738 - accuracy: 0.8679 - val_loss: 0.3935 - val_accuracy: 0.8560\n",
      "Epoch 3/10\n",
      "300/300 - 1s - loss: 0.3350 - accuracy: 0.8787 - val_loss: 0.3812 - val_accuracy: 0.8607\n",
      "Epoch 4/10\n",
      "300/300 - 1s - loss: 0.3040 - accuracy: 0.8892 - val_loss: 0.3453 - val_accuracy: 0.8765\n",
      "Epoch 5/10\n",
      "300/300 - 1s - loss: 0.2826 - accuracy: 0.8964 - val_loss: 0.3542 - val_accuracy: 0.8727\n",
      "Epoch 6/10\n",
      "300/300 - 1s - loss: 0.2690 - accuracy: 0.9011 - val_loss: 0.3323 - val_accuracy: 0.8780\n",
      "Epoch 7/10\n",
      "300/300 - 1s - loss: 0.2546 - accuracy: 0.9068 - val_loss: 0.3401 - val_accuracy: 0.8783\n",
      "Epoch 8/10\n",
      "300/300 - 1s - loss: 0.2448 - accuracy: 0.9097 - val_loss: 0.3397 - val_accuracy: 0.8773\n",
      "Epoch 9/10\n",
      "300/300 - 1s - loss: 0.2315 - accuracy: 0.9153 - val_loss: 0.3237 - val_accuracy: 0.8860\n",
      "Epoch 10/10\n",
      "300/300 - 1s - loss: 0.2214 - accuracy: 0.9187 - val_loss: 0.3219 - val_accuracy: 0.8886\n",
      "Baseline Error: 11.14%\n"
     ]
    }
   ],
   "source": [
    "# Plot ad hoc mnist instances\n",
    "from keras.datasets import fashion_mnist\n",
    "import matplotlib.pyplot as plt\n",
    "import numpy as np\n",
    "# load (downloaded if needed) the fashion_MNIST dataset\n",
    "(X_train, y_train), (X_test, y_test) = fashion_mnist.load_data()\n",
    "# plot 4 images as gray scale\n",
    "plt.subplot(221)\n",
    "plt.imshow(X_train[0], cmap=plt.get_cmap('gray'))\n",
    "plt.subplot(222)\n",
    "plt.imshow(X_train[1], cmap=plt.get_cmap('gray'))\n",
    "plt.subplot(223)\n",
    "plt.imshow(X_train[2], cmap=plt.get_cmap('gray'))\n",
    "plt.subplot(224)\n",
    "plt.imshow(X_train[3], cmap=plt.get_cmap('gray'))\n",
    "# show the plot\n",
    "plt.show()\n",
    "\n",
    "from keras.models import Sequential\n",
    "from keras.layers import Dense\n",
    "from keras.layers import Dropout\n",
    "from keras.utils import np_utils\n",
    "\n",
    "# fix random seed for reproducibility\n",
    "seed = 7\n",
    "np.random.seed(seed)\n",
    "\n",
    "# load data\n",
    "(X_train, y_train), (X_test, y_test) = fashion_mnist.load_data()\n",
    "\n",
    "\n",
    "# flatten 28*28 images to a 784 vector for each image\n",
    "num_pixels = X_train.shape[1] * X_train.shape[2]\n",
    "X_train = X_train.reshape(X_train.shape[0], num_pixels).astype('float32')\n",
    "X_test = X_test.reshape(X_test.shape[0], num_pixels).astype('float32')\n",
    "\n",
    "# normalize inputs from 0-255 to 0-1\n",
    "X_train = X_train / 255\n",
    "X_test = X_test / 255\n",
    "\n",
    "# one hot encode outputs\n",
    "y_train = np_utils.to_categorical(y_train)\n",
    "y_test = np_utils.to_categorical(y_test)\n",
    "num_classes = y_test.shape[1]\n",
    "\n",
    "\n",
    "# define baseline model\n",
    "def baseline_model():\n",
    "    # create model\n",
    "    model = Sequential()\n",
    "    model.add(Dense(num_pixels, input_dim=num_pixels, kernel_initializer='normal', activation='relu'))\n",
    "    model.add(Dense(num_classes, kernel_initializer='normal', activation='softmax'))\n",
    "    # Compile model\n",
    "    model.compile(loss='categorical_crossentropy', optimizer='adam', metrics=['accuracy'])\n",
    "    return model\n",
    "\n",
    "\n",
    "# build the model\n",
    "model = baseline_model()\n",
    "# Fit the model\n",
    "model.fit(X_train, y_train, validation_data=(X_test, y_test), epochs=10, batch_size=200, verbose=2)\n",
    "# Final evaluation of the model\n",
    "scores = model.evaluate(X_test, y_test, verbose=0)\n",
    "print(\"Baseline Error: %.2f%%\" % (100-scores[1]*100))"
   ]
  }
 ],
 "metadata": {
  "kernelspec": {
   "display_name": "Python 3",
   "language": "python",
   "name": "python3"
  },
  "language_info": {
   "codemirror_mode": {
    "name": "ipython",
    "version": 3
   },
   "file_extension": ".py",
   "mimetype": "text/x-python",
   "name": "python",
   "nbconvert_exporter": "python",
   "pygments_lexer": "ipython3",
   "version": "3.8.5"
  }
 },
 "nbformat": 4,
 "nbformat_minor": 4
}
