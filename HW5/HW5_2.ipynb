{
 "cells": [
  {
   "cell_type": "markdown",
   "metadata": {},
   "source": [
    "# HW 5_2 - Tim Demetriades\n",
    "## Examine the Impact of Regularization and Dropout\n",
    "10/3/2021"
   ]
  },
  {
   "cell_type": "markdown",
   "metadata": {},
   "source": [
    "First, let's build the base model using the default configuration for fashion_mnist from HW4.\n",
    "### Base Model"
   ]
  },
  {
   "cell_type": "code",
   "execution_count": 2,
   "metadata": {},
   "outputs": [],
   "source": [
    "!conda activate deeplearning"
   ]
  },
  {
   "cell_type": "code",
   "execution_count": 3,
   "metadata": {},
   "outputs": [
    {
     "data": {
      "image/png": "[encoded data removed]",
      "text/plain": [
       "<Figure size 432x288 with 4 Axes>"
      ]
     },
     "metadata": {
      "needs_background": "light"
     },
     "output_type": "display_data"
    }
   ],
   "source": [
    "# Plot ad hoc mnist instances\n",
    "from keras.datasets import fashion_mnist\n",
    "import matplotlib.pyplot as plt\n",
    "import numpy as np\n",
    "# load (downloaded if needed) the fashion_MNIST dataset\n",
    "(X_train, y_train), (X_test, y_test) = fashion_mnist.load_data()\n",
    "# plot 4 images as gray scale\n",
    "plt.subplot(221)\n",
    "plt.imshow(X_train[0], cmap=plt.get_cmap('gray'))\n",
    "plt.subplot(222)\n",
    "plt.imshow(X_train[1], cmap=plt.get_cmap('gray'))\n",
    "plt.subplot(223)\n",
    "plt.imshow(X_train[2], cmap=plt.get_cmap('gray'))\n",
    "plt.subplot(224)\n",
    "plt.imshow(X_train[3], cmap=plt.get_cmap('gray'))\n",
    "# show the plot\n",
    "plt.show()"
   ]
  },
  {
   "cell_type": "code",
   "execution_count": 4,
   "metadata": {},
   "outputs": [],
   "source": [
    "from keras.models import Sequential\n",
    "from keras.layers import Dense\n",
    "from keras.layers import Dropout\n",
    "from keras.utils import np_utils"
   ]
  },
  {
   "cell_type": "code",
   "execution_count": 5,
   "metadata": {},
   "outputs": [],
   "source": [
    "# fix random seed for reproducibility\n",
    "seed = 7\n",
    "np.random.seed(seed)"
   ]
  },
  {
   "cell_type": "code",
   "execution_count": 6,
   "metadata": {},
   "outputs": [],
   "source": [
    "# load data\n",
    "(X_train, y_train), (X_test, y_test) = fashion_mnist.load_data()"
   ]
  },
  {
   "cell_type": "code",
   "execution_count": 7,
   "metadata": {},
   "outputs": [],
   "source": [
    "# flatten 28*28 images to a 784 vector for each image\n",
    "num_pixels = X_train.shape[1] * X_train.shape[2]\n",
    "X_train = X_train.reshape(X_train.shape[0], num_pixels).astype('float32')\n",
    "X_test = X_test.reshape(X_test.shape[0], num_pixels).astype('float32')"
   ]
  },
  {
   "cell_type": "code",
   "execution_count": 8,
   "metadata": {},
   "outputs": [],
   "source": [
    "# normalize inputs from 0-255 to 0-1\n",
    "X_train = X_train / 255\n",
    "X_test = X_test / 255"
   ]
  },
  {
   "cell_type": "code",
   "execution_count": 9,
   "metadata": {},
   "outputs": [],
   "source": [
    "# one hot encode outputs\n",
    "y_train = np_utils.to_categorical(y_train)\n",
    "y_test = np_utils.to_categorical(y_test)\n",
    "num_classes = y_test.shape[1]"
   ]
  },
  {
   "cell_type": "code",
   "execution_count": 10,
   "metadata": {},
   "outputs": [],
   "source": [
    "# define baseline model\n",
    "def baseline_model():\n",
    "    # create model\n",
    "    model = Sequential()\n",
    "    model.add(Dense(num_pixels, input_dim=num_pixels, kernel_initializer='normal', activation='relu'))\n",
    "    model.add(Dense(num_classes, kernel_initializer='normal', activation='softmax'))\n",
    "    # Compile model\n",
    "    model.compile(loss='categorical_crossentropy', optimizer='adam', metrics=['accuracy'])\n",
    "    return model"
   ]
  },
  {
   "cell_type": "code",
   "execution_count": 11,
   "metadata": {},
   "outputs": [],
   "source": [
    "# build the model\n",
    "model = baseline_model()"
   ]
  },
  {
   "cell_type": "code",
   "execution_count": 12,
   "metadata": {},
   "outputs": [
    {
     "name": "stdout",
     "output_type": "stream",
     "text": [
      "Epoch 1/10\n",
      "300/300 [==============================] - 2s 5ms/step - loss: 0.5119 - accuracy: 0.8225 - val_loss: 0.4165 - val_accuracy: 0.8510\n",
      "Epoch 2/10\n",
      "300/300 [==============================] - 1s 5ms/step - loss: 0.3711 - accuracy: 0.8673 - val_loss: 0.3822 - val_accuracy: 0.8629\n",
      "Epoch 3/10\n",
      "300/300 [==============================] - 1s 5ms/step - loss: 0.3349 - accuracy: 0.8791 - val_loss: 0.3562 - val_accuracy: 0.8729\n",
      "Epoch 4/10\n",
      "300/300 [==============================] - 1s 5ms/step - loss: 0.3072 - accuracy: 0.8886 - val_loss: 0.3814 - val_accuracy: 0.8688\n",
      "Epoch 5/10\n",
      "300/300 [==============================] - 1s 5ms/step - loss: 0.2854 - accuracy: 0.8952 - val_loss: 0.3600 - val_accuracy: 0.8699\n",
      "Epoch 6/10\n",
      "300/300 [==============================] - 2s 5ms/step - loss: 0.2696 - accuracy: 0.9006 - val_loss: 0.3531 - val_accuracy: 0.8775\n",
      "Epoch 7/10\n",
      "300/300 [==============================] - 2s 5ms/step - loss: 0.2543 - accuracy: 0.9065 - val_loss: 0.3211 - val_accuracy: 0.8846\n",
      "Epoch 8/10\n",
      "300/300 [==============================] - 2s 5ms/step - loss: 0.2443 - accuracy: 0.9102 - val_loss: 0.3100 - val_accuracy: 0.8875\n",
      "Epoch 9/10\n",
      "300/300 [==============================] - 2s 5ms/step - loss: 0.2320 - accuracy: 0.9148 - val_loss: 0.3449 - val_accuracy: 0.8786\n",
      "Epoch 10/10\n",
      "300/300 [==============================] - 2s 5ms/step - loss: 0.2228 - accuracy: 0.9170 - val_loss: 0.3298 - val_accuracy: 0.8826\n"
     ]
    },
    {
     "data": {
      "text/plain": [
       "<keras.callbacks.History at 0x20143341ac0>"
      ]
     },
     "execution_count": 12,
     "metadata": {},
     "output_type": "execute_result"
    }
   ],
   "source": [
    "# Fit the model\n",
    "model.fit(X_train, y_train, validation_data=(X_test, y_test), epochs=10, batch_size=200, verbose=1)"
   ]
  },
  {
   "cell_type": "code",
   "execution_count": 13,
   "metadata": {},
   "outputs": [
    {
     "name": "stdout",
     "output_type": "stream",
     "text": [
      "Baseline Error: 11.74%\n"
     ]
    }
   ],
   "source": [
    "# Final evaluation of the model\n",
    "scores = model.evaluate(X_test, y_test, verbose=0)\n",
    "print(\"Baseline Error: %.2f%%\" % (100-scores[1]*100))"
   ]
  },
  {
   "cell_type": "markdown",
   "metadata": {},
   "source": [
    "Above you can see the base model finished with a **Baseline Error of 11.74%** and the following metrics after 10 epochs:\n",
    "- Training Loss: 0.2228\n",
    "- Testing Loss:  0.3298\n",
    "- Training Accuracy: 91.70%\n",
    "- Testing Accuracy:  88.26%"
   ]
  },
  {
   "cell_type": "markdown",
   "metadata": {},
   "source": [
    "Now let's try adding **Regularization** to the model.\n",
    "\n",
    "### Adding L2 Regularization"
   ]
  },
  {
   "cell_type": "code",
   "execution_count": 15,
   "metadata": {},
   "outputs": [],
   "source": [
    "from tensorflow.keras import models\n",
    "from tensorflow.keras import layers\n",
    "from tensorflow.keras import regularizers"
   ]
  },
  {
   "cell_type": "code",
   "execution_count": 19,
   "metadata": {},
   "outputs": [],
   "source": [
    "# define regularized model\n",
    "def regularized_model():\n",
    "    # create model\n",
    "    model = Sequential()\n",
    "    model.add(Dense(num_pixels, input_dim=num_pixels, kernel_initializer='normal', activation='relu'))\n",
    "    model.add(Dense(512, kernel_regularizer=regularizers.l2(0.001), activation='relu'))\n",
    "    model.add(Dense(num_classes, kernel_initializer='normal', activation='softmax'))\n",
    "    # Compile model\n",
    "    model.compile(loss='categorical_crossentropy', optimizer='adam', metrics=['accuracy'])\n",
    "    return model"
   ]
  },
  {
   "cell_type": "code",
   "execution_count": 20,
   "metadata": {},
   "outputs": [],
   "source": [
    "# build the regularized model\n",
    "model = regularized_model()"
   ]
  },
  {
   "cell_type": "code",
   "execution_count": 21,
   "metadata": {},
   "outputs": [
    {
     "name": "stdout",
     "output_type": "stream",
     "text": [
      "Epoch 1/10\n",
      "300/300 [==============================] - 3s 10ms/step - loss: 0.7762 - accuracy: 0.8270 - val_loss: 0.5733 - val_accuracy: 0.8490\n",
      "Epoch 2/10\n",
      "300/300 [==============================] - 3s 10ms/step - loss: 0.4712 - accuracy: 0.8699 - val_loss: 0.4598 - val_accuracy: 0.8605\n",
      "Epoch 3/10\n",
      "300/300 [==============================] - 3s 10ms/step - loss: 0.3864 - accuracy: 0.8823 - val_loss: 0.4003 - val_accuracy: 0.8734\n",
      "Epoch 4/10\n",
      "300/300 [==============================] - 3s 9ms/step - loss: 0.3505 - accuracy: 0.8878 - val_loss: 0.3788 - val_accuracy: 0.8756\n",
      "Epoch 5/10\n",
      "300/300 [==============================] - 3s 9ms/step - loss: 0.3274 - accuracy: 0.8935 - val_loss: 0.3797 - val_accuracy: 0.8748\n",
      "Epoch 6/10\n",
      "300/300 [==============================] - 3s 9ms/step - loss: 0.3109 - accuracy: 0.8976 - val_loss: 0.3687 - val_accuracy: 0.8796\n",
      "Epoch 7/10\n",
      "300/300 [==============================] - 3s 9ms/step - loss: 0.2941 - accuracy: 0.9032 - val_loss: 0.3585 - val_accuracy: 0.8835\n",
      "Epoch 8/10\n",
      "300/300 [==============================] - 3s 9ms/step - loss: 0.2836 - accuracy: 0.9062 - val_loss: 0.3507 - val_accuracy: 0.8829\n",
      "Epoch 9/10\n",
      "300/300 [==============================] - 3s 9ms/step - loss: 0.2769 - accuracy: 0.9083 - val_loss: 0.3720 - val_accuracy: 0.8774\n",
      "Epoch 10/10\n",
      "300/300 [==============================] - 3s 9ms/step - loss: 0.2676 - accuracy: 0.9123 - val_loss: 0.3503 - val_accuracy: 0.8862\n"
     ]
    },
    {
     "data": {
      "text/plain": [
       "<keras.callbacks.History at 0x20143c27c70>"
      ]
     },
     "execution_count": 21,
     "metadata": {},
     "output_type": "execute_result"
    }
   ],
   "source": [
    "# Fit the model\n",
    "model.fit(X_train, y_train, validation_data=(X_test, y_test), epochs=10, batch_size=200, verbose=1)"
   ]
  },
  {
   "cell_type": "code",
   "execution_count": 22,
   "metadata": {},
   "outputs": [
    {
     "name": "stdout",
     "output_type": "stream",
     "text": [
      "Baseline Error: 11.38%\n"
     ]
    }
   ],
   "source": [
    "# Final evaluation of the model\n",
    "scores = model.evaluate(X_test, y_test, verbose=0)\n",
    "print(\"Baseline Error: %.2f%%\" % (100-scores[1]*100))"
   ]
  },
  {
   "cell_type": "markdown",
   "metadata": {},
   "source": [
    "Above you can see the **l2 regularized model** finished with a **Baseline Error of 11.38%**, which is slightly less than the baseline error of the base model, and the following metrics after 10 epochs:\n",
    "- Training Loss: 0.2676\n",
    "- Testing Loss:  0.3503\n",
    "- Training Accuracy: 91.23%\n",
    "- Testing Accuracy:  88.62%"
   ]
  },
  {
   "cell_type": "markdown",
   "metadata": {},
   "source": [
    "These metrics are pretty similar to that of the baseline model, and if anything actually slightly worse. Let's try to adjust the regularization factor."
   ]
  },
  {
   "cell_type": "code",
   "execution_count": 24,
   "metadata": {},
   "outputs": [],
   "source": [
    "# define regularized model\n",
    "def regularized_model():\n",
    "    # create model\n",
    "    model = Sequential()\n",
    "    model.add(Dense(num_pixels, input_dim=num_pixels, kernel_initializer='normal', activation='relu'))\n",
    "    model.add(Dense(512, kernel_regularizer=regularizers.l2(0.01), activation='relu'))\n",
    "    model.add(Dense(num_classes, kernel_initializer='normal', activation='softmax'))\n",
    "    # Compile model\n",
    "    model.compile(loss='categorical_crossentropy', optimizer='adam', metrics=['accuracy'])\n",
    "    return model"
   ]
  },
  {
   "cell_type": "code",
   "execution_count": 25,
   "metadata": {},
   "outputs": [],
   "source": [
    "# build the regularized model\n",
    "model = regularized_model()"
   ]
  },
  {
   "cell_type": "code",
   "execution_count": 26,
   "metadata": {},
   "outputs": [
    {
     "name": "stdout",
     "output_type": "stream",
     "text": [
      "Epoch 1/10\n",
      "300/300 [==============================] - 3s 11ms/step - loss: 1.3906 - accuracy: 0.8141 - val_loss: 0.5730 - val_accuracy: 0.8330\n",
      "Epoch 2/10\n",
      "300/300 [==============================] - 3s 11ms/step - loss: 0.4743 - accuracy: 0.8582 - val_loss: 0.4844 - val_accuracy: 0.8517\n",
      "Epoch 3/10\n",
      "300/300 [==============================] - 3s 10ms/step - loss: 0.4252 - accuracy: 0.8684 - val_loss: 0.4722 - val_accuracy: 0.8488\n",
      "Epoch 4/10\n",
      "300/300 [==============================] - 3s 10ms/step - loss: 0.3901 - accuracy: 0.8786 - val_loss: 0.4462 - val_accuracy: 0.8562\n",
      "Epoch 5/10\n",
      "300/300 [==============================] - 3s 10ms/step - loss: 0.3718 - accuracy: 0.8819 - val_loss: 0.4219 - val_accuracy: 0.8661\n",
      "Epoch 6/10\n",
      "300/300 [==============================] - 3s 10ms/step - loss: 0.3657 - accuracy: 0.8847 - val_loss: 0.4074 - val_accuracy: 0.8673\n",
      "Epoch 7/10\n",
      "300/300 [==============================] - 3s 10ms/step - loss: 0.3483 - accuracy: 0.8895 - val_loss: 0.4045 - val_accuracy: 0.8720\n",
      "Epoch 8/10\n",
      "300/300 [==============================] - 3s 10ms/step - loss: 0.3361 - accuracy: 0.8934 - val_loss: 0.3950 - val_accuracy: 0.8747\n",
      "Epoch 9/10\n",
      "300/300 [==============================] - 3s 10ms/step - loss: 0.3307 - accuracy: 0.8952 - val_loss: 0.3733 - val_accuracy: 0.8768\n",
      "Epoch 10/10\n",
      "300/300 [==============================] - 3s 10ms/step - loss: 0.3157 - accuracy: 0.9004 - val_loss: 0.3892 - val_accuracy: 0.8751\n"
     ]
    },
    {
     "data": {
      "text/plain": [
       "<keras.callbacks.History at 0x201440458b0>"
      ]
     },
     "execution_count": 26,
     "metadata": {},
     "output_type": "execute_result"
    }
   ],
   "source": [
    "# Fit the model\n",
    "model.fit(X_train, y_train, validation_data=(X_test, y_test), epochs=10, batch_size=200, verbose=1)"
   ]
  },
  {
   "cell_type": "code",
   "execution_count": 27,
   "metadata": {},
   "outputs": [
    {
     "name": "stdout",
     "output_type": "stream",
     "text": [
      "Baseline Error: 12.49%\n"
     ]
    }
   ],
   "source": [
    "# Final evaluation of the model\n",
    "scores = model.evaluate(X_test, y_test, verbose=0)\n",
    "print(\"Baseline Error: %.2f%%\" % (100-scores[1]*100))"
   ]
  },
  {
   "cell_type": "markdown",
   "metadata": {},
   "source": [
    "Now the baseline error is even worse."
   ]
  },
  {
   "cell_type": "markdown",
   "metadata": {},
   "source": [
    "Above you can see the **l2 regularized model with 0.01 regularization factor** finished with a **Baseline Error of 12.49%**, which is **higher** than the baseline error of the base model, and the following metrics after 10 epochs:\n",
    "- Training Loss: 0.3157\n",
    "- Testing Loss:  0.3892\n",
    "- Training Accuracy: 90.04%\n",
    "- Testing Accuracy:  87.51%"
   ]
  },
  {
   "cell_type": "markdown",
   "metadata": {},
   "source": [
    "This model actually performed worse. Let's try decreasing the regularization factor."
   ]
  },
  {
   "cell_type": "code",
   "execution_count": 28,
   "metadata": {},
   "outputs": [],
   "source": [
    "# define regularized model\n",
    "def regularized_model():\n",
    "    # create model\n",
    "    model = Sequential()\n",
    "    model.add(Dense(num_pixels, input_dim=num_pixels, kernel_initializer='normal', activation='relu'))\n",
    "    model.add(Dense(512, kernel_regularizer=regularizers.l2(0.0001), activation='relu'))\n",
    "    model.add(Dense(num_classes, kernel_initializer='normal', activation='softmax'))\n",
    "    # Compile model\n",
    "    model.compile(loss='categorical_crossentropy', optimizer='adam', metrics=['accuracy'])\n",
    "    return model"
   ]
  },
  {
   "cell_type": "code",
   "execution_count": 29,
   "metadata": {},
   "outputs": [],
   "source": [
    "# build the regularized model\n",
    "model = regularized_model()"
   ]
  },
  {
   "cell_type": "code",
   "execution_count": 30,
   "metadata": {},
   "outputs": [
    {
     "name": "stdout",
     "output_type": "stream",
     "text": [
      "Epoch 1/10\n",
      "300/300 [==============================] - 3s 11ms/step - loss: 0.5353 - accuracy: 0.8285 - val_loss: 0.4994 - val_accuracy: 0.8331\n",
      "Epoch 2/10\n",
      "300/300 [==============================] - 4s 12ms/step - loss: 0.3912 - accuracy: 0.8724 - val_loss: 0.4279 - val_accuracy: 0.8563\n",
      "Epoch 3/10\n",
      "300/300 [==============================] - 4s 13ms/step - loss: 0.3468 - accuracy: 0.8849 - val_loss: 0.3850 - val_accuracy: 0.8753\n",
      "Epoch 4/10\n",
      "300/300 [==============================] - 4s 12ms/step - loss: 0.3231 - accuracy: 0.8926 - val_loss: 0.3742 - val_accuracy: 0.8742\n",
      "Epoch 5/10\n",
      "300/300 [==============================] - 3s 11ms/step - loss: 0.3033 - accuracy: 0.8989 - val_loss: 0.3793 - val_accuracy: 0.8726\n",
      "Epoch 6/10\n",
      "300/300 [==============================] - 3s 11ms/step - loss: 0.2828 - accuracy: 0.9053 - val_loss: 0.3466 - val_accuracy: 0.8843\n",
      "Epoch 7/10\n",
      "300/300 [==============================] - 3s 10ms/step - loss: 0.2730 - accuracy: 0.9080 - val_loss: 0.3533 - val_accuracy: 0.8821\n",
      "Epoch 8/10\n",
      "300/300 [==============================] - 3s 10ms/step - loss: 0.2591 - accuracy: 0.9118 - val_loss: 0.3548 - val_accuracy: 0.8818\n",
      "Epoch 9/10\n",
      "300/300 [==============================] - 3s 10ms/step - loss: 0.2485 - accuracy: 0.9155 - val_loss: 0.3409 - val_accuracy: 0.8867\n",
      "Epoch 10/10\n",
      "300/300 [==============================] - 3s 10ms/step - loss: 0.2339 - accuracy: 0.9206 - val_loss: 0.3313 - val_accuracy: 0.8917\n"
     ]
    },
    {
     "data": {
      "text/plain": [
       "<keras.callbacks.History at 0x20143a4f970>"
      ]
     },
     "execution_count": 30,
     "metadata": {},
     "output_type": "execute_result"
    }
   ],
   "source": [
    "# Fit the model\n",
    "model.fit(X_train, y_train, validation_data=(X_test, y_test), epochs=10, batch_size=200, verbose=1)"
   ]
  },
  {
   "cell_type": "code",
   "execution_count": 31,
   "metadata": {},
   "outputs": [
    {
     "name": "stdout",
     "output_type": "stream",
     "text": [
      "Baseline Error: 10.83%\n"
     ]
    }
   ],
   "source": [
    "# Final evaluation of the model\n",
    "scores = model.evaluate(X_test, y_test, verbose=0)\n",
    "print(\"Baseline Error: %.2f%%\" % (100-scores[1]*100))"
   ]
  },
  {
   "cell_type": "markdown",
   "metadata": {},
   "source": [
    "Above you can see the **l2 regularized model with 0.0001 regularization factor** finished with a **Baseline Error of 10.83%**, which is **lower** than the baseline error of the base model, and the following metrics after 10 epochs:\n",
    "- Training Loss: 0.2339\n",
    "- Testing Loss:  0.3313\n",
    "- Training Accuracy: 92.06%\n",
    "- Testing Accuracy:  89.17%"
   ]
  },
  {
   "cell_type": "markdown",
   "metadata": {},
   "source": [
    "This model performed the best of the 3. Decreasing the regularization factor to 0.0001 improved the baseline error (10.83%). Also, all the losses and accuracy have improved. This makes sense, as regularization tends to improve model performance by preventing overfitting."
   ]
  },
  {
   "cell_type": "markdown",
   "metadata": {},
   "source": [
    "### Adding Dropout"
   ]
  },
  {
   "cell_type": "code",
   "execution_count": 32,
   "metadata": {},
   "outputs": [],
   "source": [
    "# define dropout model\n",
    "def dropout_model():\n",
    "    # create model\n",
    "    model = Sequential()\n",
    "    model.add(Dense(num_pixels, input_dim=num_pixels, kernel_initializer='normal', activation='relu'))\n",
    "    model.add(Dropout(0.5))\n",
    "    model.add(Dense(num_classes, kernel_initializer='normal', activation='softmax'))\n",
    "    # Compile model\n",
    "    model.compile(loss='categorical_crossentropy', optimizer='adam', metrics=['accuracy'])\n",
    "    return model"
   ]
  },
  {
   "cell_type": "code",
   "execution_count": 33,
   "metadata": {},
   "outputs": [],
   "source": [
    "# build the dropout model\n",
    "model = dropout_model()"
   ]
  },
  {
   "cell_type": "code",
   "execution_count": 34,
   "metadata": {},
   "outputs": [
    {
     "name": "stdout",
     "output_type": "stream",
     "text": [
      "Epoch 1/10\n",
      "300/300 [==============================] - 2s 7ms/step - loss: 0.5747 - accuracy: 0.7980 - val_loss: 0.4503 - val_accuracy: 0.8372\n",
      "Epoch 2/10\n",
      "300/300 [==============================] - 2s 6ms/step - loss: 0.4189 - accuracy: 0.8496 - val_loss: 0.4029 - val_accuracy: 0.8536\n",
      "Epoch 3/10\n",
      "300/300 [==============================] - 2s 6ms/step - loss: 0.3833 - accuracy: 0.8613 - val_loss: 0.3851 - val_accuracy: 0.8625\n",
      "Epoch 4/10\n",
      "300/300 [==============================] - 2s 7ms/step - loss: 0.3629 - accuracy: 0.8675 - val_loss: 0.3674 - val_accuracy: 0.8681\n",
      "Epoch 5/10\n",
      "300/300 [==============================] - 2s 6ms/step - loss: 0.3465 - accuracy: 0.8725 - val_loss: 0.3591 - val_accuracy: 0.8740\n",
      "Epoch 6/10\n",
      "300/300 [==============================] - 2s 6ms/step - loss: 0.3319 - accuracy: 0.8780 - val_loss: 0.3473 - val_accuracy: 0.8733\n",
      "Epoch 7/10\n",
      "300/300 [==============================] - 2s 6ms/step - loss: 0.3234 - accuracy: 0.8815 - val_loss: 0.3453 - val_accuracy: 0.8773\n",
      "Epoch 8/10\n",
      "300/300 [==============================] - 2s 6ms/step - loss: 0.3120 - accuracy: 0.8855 - val_loss: 0.3373 - val_accuracy: 0.8763\n",
      "Epoch 9/10\n",
      "300/300 [==============================] - 2s 6ms/step - loss: 0.3068 - accuracy: 0.8873 - val_loss: 0.3261 - val_accuracy: 0.8812\n",
      "Epoch 10/10\n",
      "300/300 [==============================] - 2s 6ms/step - loss: 0.2989 - accuracy: 0.8890 - val_loss: 0.3395 - val_accuracy: 0.8738\n"
     ]
    },
    {
     "data": {
      "text/plain": [
       "<keras.callbacks.History at 0x2014508e2b0>"
      ]
     },
     "execution_count": 34,
     "metadata": {},
     "output_type": "execute_result"
    }
   ],
   "source": [
    "# Fit the model\n",
    "model.fit(X_train, y_train, validation_data=(X_test, y_test), epochs=10, batch_size=200, verbose=1)"
   ]
  },
  {
   "cell_type": "code",
   "execution_count": 35,
   "metadata": {},
   "outputs": [
    {
     "name": "stdout",
     "output_type": "stream",
     "text": [
      "Baseline Error: 12.62%\n"
     ]
    }
   ],
   "source": [
    "# Final evaluation of the model\n",
    "scores = model.evaluate(X_test, y_test, verbose=0)\n",
    "print(\"Baseline Error: %.2f%%\" % (100-scores[1]*100))"
   ]
  },
  {
   "cell_type": "markdown",
   "metadata": {},
   "source": [
    "Above you can see the **dropout layer** finished with a **Baseline Error of 12.62%**, which is **higher** than the baseline error of the base model, and the following metrics after 10 epochs:\n",
    "- Training Loss: 0.2989\n",
    "- Testing Loss:  0.3395\n",
    "- Training Accuracy: 88.90%\n",
    "- Testing Accuracy:  87.38%"
   ]
  },
  {
   "cell_type": "markdown",
   "metadata": {},
   "source": [
    "This model with a dropout layer performed worse than the base model. Let's try using a different dropout rate."
   ]
  },
  {
   "cell_type": "code",
   "execution_count": 36,
   "metadata": {},
   "outputs": [],
   "source": [
    "# define dropout model\n",
    "def dropout_model():\n",
    "    # create model\n",
    "    model = Sequential()\n",
    "    model.add(Dense(num_pixels, input_dim=num_pixels, kernel_initializer='normal', activation='relu'))\n",
    "    model.add(Dropout(0.25))\n",
    "    model.add(Dense(num_classes, kernel_initializer='normal', activation='softmax'))\n",
    "    # Compile model\n",
    "    model.compile(loss='categorical_crossentropy', optimizer='adam', metrics=['accuracy'])\n",
    "    return model"
   ]
  },
  {
   "cell_type": "code",
   "execution_count": 37,
   "metadata": {},
   "outputs": [],
   "source": [
    "# build the dropout model\n",
    "model = dropout_model()"
   ]
  },
  {
   "cell_type": "code",
   "execution_count": 38,
   "metadata": {},
   "outputs": [
    {
     "name": "stdout",
     "output_type": "stream",
     "text": [
      "Epoch 1/10\n",
      "300/300 [==============================] - 2s 6ms/step - loss: 0.5327 - accuracy: 0.8133 - val_loss: 0.4383 - val_accuracy: 0.8424\n",
      "Epoch 2/10\n",
      "300/300 [==============================] - 2s 6ms/step - loss: 0.3910 - accuracy: 0.8602 - val_loss: 0.3817 - val_accuracy: 0.8652\n",
      "Epoch 3/10\n",
      "300/300 [==============================] - 2s 6ms/step - loss: 0.3491 - accuracy: 0.8744 - val_loss: 0.3640 - val_accuracy: 0.8695\n",
      "Epoch 4/10\n",
      "300/300 [==============================] - 2s 6ms/step - loss: 0.3268 - accuracy: 0.8810 - val_loss: 0.3517 - val_accuracy: 0.8748\n",
      "Epoch 5/10\n",
      "300/300 [==============================] - 2s 6ms/step - loss: 0.3078 - accuracy: 0.8872 - val_loss: 0.3467 - val_accuracy: 0.8763\n",
      "Epoch 6/10\n",
      "300/300 [==============================] - 2s 7ms/step - loss: 0.2955 - accuracy: 0.8897 - val_loss: 0.3335 - val_accuracy: 0.8770\n",
      "Epoch 7/10\n",
      "300/300 [==============================] - 2s 6ms/step - loss: 0.2842 - accuracy: 0.8946 - val_loss: 0.3301 - val_accuracy: 0.8812\n",
      "Epoch 8/10\n",
      "300/300 [==============================] - 2s 6ms/step - loss: 0.2738 - accuracy: 0.8984 - val_loss: 0.3450 - val_accuracy: 0.8719\n",
      "Epoch 9/10\n",
      "300/300 [==============================] - 2s 6ms/step - loss: 0.2644 - accuracy: 0.9028 - val_loss: 0.3230 - val_accuracy: 0.8844\n",
      "Epoch 10/10\n",
      "300/300 [==============================] - 2s 6ms/step - loss: 0.2581 - accuracy: 0.9044 - val_loss: 0.3262 - val_accuracy: 0.8813\n"
     ]
    },
    {
     "data": {
      "text/plain": [
       "<keras.callbacks.History at 0x20150dcc400>"
      ]
     },
     "execution_count": 38,
     "metadata": {},
     "output_type": "execute_result"
    }
   ],
   "source": [
    "# Fit the model\n",
    "model.fit(X_train, y_train, validation_data=(X_test, y_test), epochs=10, batch_size=200, verbose=1)"
   ]
  },
  {
   "cell_type": "code",
   "execution_count": 39,
   "metadata": {},
   "outputs": [
    {
     "name": "stdout",
     "output_type": "stream",
     "text": [
      "Baseline Error: 11.87%\n"
     ]
    }
   ],
   "source": [
    "# Final evaluation of the model\n",
    "scores = model.evaluate(X_test, y_test, verbose=0)\n",
    "print(\"Baseline Error: %.2f%%\" % (100-scores[1]*100))"
   ]
  },
  {
   "cell_type": "markdown",
   "metadata": {},
   "source": [
    "Above you can see the **dropout layer with a rate of 0.25** finished with a **Baseline Error of 11.87%**, which is slightly **higher** than the baseline error of the base model but lower than the baseline error of the other dropout model, and the following metrics after 10 epochs:\n",
    "- Training Loss: 0.2281\n",
    "- Testing Loss:  0.3262\n",
    "- Training Accuracy: 90.44%\n",
    "- Testing Accuracy:  88.13%\n",
    "\n",
    "Let's try now with a higher dropout rate - 0.75."
   ]
  },
  {
   "cell_type": "code",
   "execution_count": 40,
   "metadata": {},
   "outputs": [],
   "source": [
    "# define dropout model\n",
    "def dropout_model():\n",
    "    # create model\n",
    "    model = Sequential()\n",
    "    model.add(Dense(num_pixels, input_dim=num_pixels, kernel_initializer='normal', activation='relu'))\n",
    "    model.add(Dropout(0.75))\n",
    "    model.add(Dense(num_classes, kernel_initializer='normal', activation='softmax'))\n",
    "    # Compile model\n",
    "    model.compile(loss='categorical_crossentropy', optimizer='adam', metrics=['accuracy'])\n",
    "    return model"
   ]
  },
  {
   "cell_type": "code",
   "execution_count": 41,
   "metadata": {},
   "outputs": [],
   "source": [
    "# build the dropout model\n",
    "model = dropout_model()"
   ]
  },
  {
   "cell_type": "code",
   "execution_count": 42,
   "metadata": {},
   "outputs": [
    {
     "name": "stdout",
     "output_type": "stream",
     "text": [
      "Epoch 1/10\n",
      "300/300 [==============================] - 2s 6ms/step - loss: 0.6840 - accuracy: 0.7582 - val_loss: 0.4772 - val_accuracy: 0.8317\n",
      "Epoch 2/10\n",
      "300/300 [==============================] - 2s 6ms/step - loss: 0.4975 - accuracy: 0.8216 - val_loss: 0.4295 - val_accuracy: 0.8439\n",
      "Epoch 3/10\n",
      "300/300 [==============================] - 2s 6ms/step - loss: 0.4581 - accuracy: 0.8335 - val_loss: 0.4086 - val_accuracy: 0.8517\n",
      "Epoch 4/10\n",
      "300/300 [==============================] - 2s 6ms/step - loss: 0.4354 - accuracy: 0.8401 - val_loss: 0.3917 - val_accuracy: 0.8570\n",
      "Epoch 5/10\n",
      "300/300 [==============================] - 2s 6ms/step - loss: 0.4225 - accuracy: 0.8466 - val_loss: 0.3886 - val_accuracy: 0.8588\n",
      "Epoch 6/10\n",
      "300/300 [==============================] - 2s 6ms/step - loss: 0.4094 - accuracy: 0.8501 - val_loss: 0.3716 - val_accuracy: 0.8652\n",
      "Epoch 7/10\n",
      "300/300 [==============================] - 2s 6ms/step - loss: 0.4004 - accuracy: 0.8532 - val_loss: 0.3756 - val_accuracy: 0.8644\n",
      "Epoch 8/10\n",
      "300/300 [==============================] - 2s 6ms/step - loss: 0.3925 - accuracy: 0.8570 - val_loss: 0.3638 - val_accuracy: 0.8690\n",
      "Epoch 9/10\n",
      "300/300 [==============================] - 2s 6ms/step - loss: 0.3848 - accuracy: 0.8574 - val_loss: 0.3579 - val_accuracy: 0.8728\n",
      "Epoch 10/10\n",
      "300/300 [==============================] - 2s 6ms/step - loss: 0.3781 - accuracy: 0.8619 - val_loss: 0.3577 - val_accuracy: 0.8694\n"
     ]
    },
    {
     "data": {
      "text/plain": [
       "<keras.callbacks.History at 0x20151104940>"
      ]
     },
     "execution_count": 42,
     "metadata": {},
     "output_type": "execute_result"
    }
   ],
   "source": [
    "# Fit the model\n",
    "model.fit(X_train, y_train, validation_data=(X_test, y_test), epochs=10, batch_size=200, verbose=1)"
   ]
  },
  {
   "cell_type": "code",
   "execution_count": 43,
   "metadata": {},
   "outputs": [
    {
     "name": "stdout",
     "output_type": "stream",
     "text": [
      "Baseline Error: 13.06%\n"
     ]
    }
   ],
   "source": [
    "# Final evaluation of the model\n",
    "scores = model.evaluate(X_test, y_test, verbose=0)\n",
    "print(\"Baseline Error: %.2f%%\" % (100-scores[1]*100))"
   ]
  },
  {
   "cell_type": "markdown",
   "metadata": {},
   "source": [
    "Above you can see the **dropout layer with a rate of 0.75** finished with a **Baseline Error of 13.06%**, which is **higher** than the baseline error of the base model and the other dropout models, and the following metrics after 10 epochs:\n",
    "- Training Loss: 0.3781\n",
    "- Testing Loss:  0.3577\n",
    "- Training Accuracy: 86.19%\n",
    "- Testing Accuracy:  86.94%\n",
    "\n",
    "Dropout is similar to regularization in that it tries to simplify and generalize the model by ignoring some of the neurons during the training, which can prevent overfitting. We see here that different droput rates can either benefit or hurt the model performance, so finding the best rate is key."
   ]
  },
  {
   "cell_type": "markdown",
   "metadata": {},
   "source": [
    "Finally, let's try combining the best regularized model with the best dropout model.\n",
    "The best regularized model used l2 regularization with a regularization rate of 0.0001 and the best dropout model had a dropout rate of 0.25.\n",
    "\n",
    "### Both Regularization and Droput Layers"
   ]
  },
  {
   "cell_type": "code",
   "execution_count": 55,
   "metadata": {},
   "outputs": [],
   "source": [
    "# define regularized and dropout model\n",
    "def regularized_dropout_model():\n",
    "    # create model\n",
    "    model = Sequential()\n",
    "    model.add(Dense(num_pixels, input_dim=num_pixels, kernel_initializer='normal', activation='relu'))\n",
    "    model.add(Dense(512, kernel_regularizer=regularizers.l2(0.0001), activation='relu'))\n",
    "    model.add(Dropout(0.25))\n",
    "    model.add(Dense(num_classes, kernel_initializer='normal', activation='softmax'))\n",
    "    # Compile model\n",
    "    model.compile(loss='categorical_crossentropy', optimizer='adam', metrics=['accuracy'])\n",
    "    return model"
   ]
  },
  {
   "cell_type": "code",
   "execution_count": 56,
   "metadata": {},
   "outputs": [],
   "source": [
    "# build the regularized dropout model\n",
    "model = dropout_model()"
   ]
  },
  {
   "cell_type": "code",
   "execution_count": 57,
   "metadata": {},
   "outputs": [
    {
     "name": "stdout",
     "output_type": "stream",
     "text": [
      "Epoch 1/10\n",
      "300/300 [==============================] - 2s 6ms/step - loss: 0.6720 - accuracy: 0.7617 - val_loss: 0.4671 - val_accuracy: 0.8293\n",
      "Epoch 2/10\n",
      "300/300 [==============================] - 2s 6ms/step - loss: 0.4918 - accuracy: 0.8227 - val_loss: 0.4259 - val_accuracy: 0.8450\n",
      "Epoch 3/10\n",
      "300/300 [==============================] - 2s 6ms/step - loss: 0.4538 - accuracy: 0.8367 - val_loss: 0.4078 - val_accuracy: 0.8525\n",
      "Epoch 4/10\n",
      "300/300 [==============================] - 2s 6ms/step - loss: 0.4340 - accuracy: 0.8425 - val_loss: 0.3940 - val_accuracy: 0.8605\n",
      "Epoch 5/10\n",
      "300/300 [==============================] - 2s 6ms/step - loss: 0.4219 - accuracy: 0.8469 - val_loss: 0.3782 - val_accuracy: 0.8619\n",
      "Epoch 6/10\n",
      "300/300 [==============================] - 2s 6ms/step - loss: 0.4093 - accuracy: 0.8503 - val_loss: 0.3767 - val_accuracy: 0.8648\n",
      "Epoch 7/10\n",
      "300/300 [==============================] - 2s 6ms/step - loss: 0.3980 - accuracy: 0.8543 - val_loss: 0.3734 - val_accuracy: 0.8665\n",
      "Epoch 8/10\n",
      "300/300 [==============================] - 2s 6ms/step - loss: 0.3927 - accuracy: 0.8562 - val_loss: 0.3678 - val_accuracy: 0.8686\n",
      "Epoch 9/10\n",
      "300/300 [==============================] - 2s 6ms/step - loss: 0.3837 - accuracy: 0.8587 - val_loss: 0.3646 - val_accuracy: 0.8703\n",
      "Epoch 10/10\n",
      "300/300 [==============================] - 2s 6ms/step - loss: 0.3792 - accuracy: 0.8604 - val_loss: 0.3587 - val_accuracy: 0.8707\n"
     ]
    },
    {
     "data": {
      "text/plain": [
       "<keras.callbacks.History at 0x201631ad940>"
      ]
     },
     "execution_count": 57,
     "metadata": {},
     "output_type": "execute_result"
    }
   ],
   "source": [
    "# Fit the model\n",
    "model.fit(X_train, y_train, validation_data=(X_test, y_test), epochs=10, batch_size=200, verbose=1)"
   ]
  },
  {
   "cell_type": "code",
   "execution_count": 58,
   "metadata": {},
   "outputs": [
    {
     "name": "stdout",
     "output_type": "stream",
     "text": [
      "Baseline Error: 12.93%\n"
     ]
    }
   ],
   "source": [
    "# Final evaluation of the model\n",
    "scores = model.evaluate(X_test, y_test, verbose=0)\n",
    "print(\"Baseline Error: %.2f%%\" % (100-scores[1]*100))"
   ]
  },
  {
   "cell_type": "markdown",
   "metadata": {},
   "source": [
    "Above you can see the model actually had a worse **baseline error of 12.93%** and the following metrics after 10 epochs:\n",
    "- Training Loss: 0.3792\n",
    "- Testing Loss:  0.3587\n",
    "- Training Accuracy: 86.04%\n",
    "- Testing Accuracy:  87.07%"
   ]
  },
  {
   "cell_type": "markdown",
   "metadata": {},
   "source": [
    "Overall, the changes we made did not heavily impact the model performance, with the baseline errors all being between a range of 10.83% and 13.06%. The best model used the l2 regularizer with a regularization factor of 0.0001. Regularization will help select a midpoint between a model with high bias and a model with high variance. It will make the model simpler and closer to an under-fit linear model. Adjusting the rates and other hyperparameters more can produce an even better model."
   ]
  }
 ],
 "metadata": {
  "kernelspec": {
   "display_name": "Python 3",
   "language": "python",
   "name": "python3"
  },
  "language_info": {
   "codemirror_mode": {
    "name": "ipython",
    "version": 3
   },
   "file_extension": ".py",
   "mimetype": "text/x-python",
   "name": "python",
   "nbconvert_exporter": "python",
   "pygments_lexer": "ipython3",
   "version": "3.8.5"
  }
 },
 "nbformat": 4,
 "nbformat_minor": 4
}
